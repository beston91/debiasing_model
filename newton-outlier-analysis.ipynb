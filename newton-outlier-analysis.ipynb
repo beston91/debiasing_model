{
 "cells": [
  {
   "cell_type": "markdown",
   "metadata": {},
   "source": [
    "### Basic Analysis \n",
    "Where do the top 5 most & least biased continuations go after de-biasing and fine-tuning? "
   ]
  },
  {
   "cell_type": "code",
   "execution_count": 1,
   "metadata": {},
   "outputs": [],
   "source": [
    "import numpy as np\n",
    "import pandas as pd\n",
    "import matplotlib.pyplot as plt\n",
    "import os\n",
    "pd.set_option('display.max_colwidth', None) # show full sentence "
   ]
  },
  {
   "cell_type": "markdown",
   "metadata": {},
   "source": [
    "Load dataset"
   ]
  },
  {
   "cell_type": "code",
   "execution_count": 2,
   "metadata": {},
   "outputs": [],
   "source": [
    "# Load dataset\n",
    "biased_path     = \"scores/SCORES_prompted_generations_gpt2-xl_default.csv\"\n",
    "debiased_path   = \"scores/SCORES_gpt2-xl-debiased-challenging-continuations-100-20.csv\"\n",
    "fine_tuned_path = \"scores/SCORES_gpt2-xl-fine-tuned-challenging-continuations-100-20.csv\"\n",
    "\n",
    "biased     = pd.read_csv(biased_path)\n",
    "debiased   = pd.read_csv(debiased_path)\n",
    "fine_tuned = pd.read_csv(fine_tuned_path)"
   ]
  },
  {
   "cell_type": "code",
   "execution_count": 3,
   "metadata": {},
   "outputs": [
    {
     "data": {
      "text/plain": [
       "'\\n# Load dataset\\nbiased_path     = \"scores/SCORES_prompted_generations_gpt2-xl_default.csv\"\\ndebiased_path   = \"scores/SCORES_gpt2-xl-debiased-challenging-continuations-100-20.csv\"\\nfine_tuned_path = \"scores/SCORES_gpt2-xl-fine-tuned-challenging-continuations-100-20-test.csv\"\\n\\nn = 400 \\nbiased  = biased.iloc[-n:]\\ndebised = debiased.iloc[-n:]\\nfine_tuned = pd.read_csv(fine_tuned_path)\\n'"
      ]
     },
     "execution_count": 3,
     "metadata": {},
     "output_type": "execute_result"
    }
   ],
   "source": [
    "# Replace above cell with the following when new dataset is available\n",
    "'''\n",
    "# Load dataset\n",
    "biased_path     = \"scores/SCORES_prompted_generations_gpt2-xl_default.csv\"\n",
    "debiased_path   = \"scores/SCORES_gpt2-xl-debiased-challenging-continuations-100-20.csv\"\n",
    "fine_tuned_path = \"scores/SCORES_gpt2-xl-fine-tuned-challenging-continuations-100-20-test.csv\"\n",
    "\n",
    "n = 400 \n",
    "biased  = biased.iloc[-n:]\n",
    "debised = debiased.iloc[-n:]\n",
    "fine_tuned = pd.read_csv(fine_tuned_path)\n",
    "'''"
   ]
  },
  {
   "cell_type": "markdown",
   "metadata": {},
   "source": [
    "Show top and bottom 5 average scores"
   ]
  },
  {
   "cell_type": "code",
   "execution_count": 4,
   "metadata": {},
   "outputs": [],
   "source": [
    "# Top/bottom 5 avg. scored sentences in biased\n",
    "top_5, bot_5 = biased.nlargest(5, ['Average']).index.values, biased.nsmallest(5, ['Average']).index.values\n",
    "\n",
    "# See where top/bot 5 biased sentences go in debiased and fine-tuned\n",
    "b_t5, b_b5 = biased.loc[top_5], debiased.loc[bot_5]\n",
    "b_to_db_t5, b_to_db_b5 = debiased.loc[top_5], debiased.loc[bot_5]\n",
    "b_to_ft_t5, b_to_ft_b5 = fine_tuned.loc[top_5], fine_tuned.loc[bot_5]\n",
    "\n",
    "# get biased, debiased, and fine-tuned scores\n",
    "b_t5_avg_scores, b_b5_avg_scores   = b_t5['Average'].to_list(), b_b5['Average'].to_list()\n",
    "db_t5_avg_scores, db_b5_avg_scores = b_to_db_t5['Average'].to_list(), b_to_db_b5['Average'].to_list()\n",
    "ft_t5_avg_scores, ft_b5_avg_scores = b_to_ft_t5['Average'].to_list(), b_to_ft_b5['Average'].to_list()"
   ]
  },
  {
   "cell_type": "code",
   "execution_count": 5,
   "metadata": {},
   "outputs": [
    {
     "data": {
      "image/png": "[encoded data removed]",
      "text/plain": [
       "<Figure size 432x288 with 1 Axes>"
      ]
     },
     "metadata": {
      "needs_background": "light"
     },
     "output_type": "display_data"
    }
   ],
   "source": [
    "# Top 5 Average Scores \n",
    "N = len(top_5)\n",
    "save_path = \"/newton-plots\"\n",
    "biased_x     = N * [1] # use 1 to represent biased\n",
    "debiased_x   = N * [2] # use 2 to represent debiased\n",
    "fine_tuned_x = N * [3] # use 3 to represent fine-tuned\n",
    "\n",
    "x = [1, 2, 3]\n",
    "for b, db, ft in zip(b_t5_avg_scores, db_t5_avg_scores, ft_t5_avg_scores):\n",
    "    plt.plot(x, [b, db, ft], linestyle='--', marker=\".\", alpha=0.5)\n",
    "\n",
    "name = \"Top 5 Average Scores\"\n",
    "plt.xlabel(\"Model\")\n",
    "plt.xticks(x, labels = [\"B\", \"DB\", \"FT\"])\n",
    "plt.ylabel(\"Score\")\n",
    "plt.title(\"Top 5 Average Scores\")\n",
    "plt.savefig('./newton-plots/top5_avg_score.jpg', dpi=300)"
   ]
  },
  {
   "cell_type": "code",
   "execution_count": 6,
   "metadata": {},
   "outputs": [
    {
     "name": "stdout",
     "output_type": "stream",
     "text": [
      "Reduction in Top 5 Average Score\n",
      "+ scores denote a reduction in bias (good)\n",
      "- scores denote an increase in bias (bad)\n"
     ]
    },
    {
     "data": {
      "text/html": [
       "<div>\n",
       "<style scoped>\n",
       "    .dataframe tbody tr th:only-of-type {\n",
       "        vertical-align: middle;\n",
       "    }\n",
       "\n",
       "    .dataframe tbody tr th {\n",
       "        vertical-align: top;\n",
       "    }\n",
       "\n",
       "    .dataframe thead th {\n",
       "        text-align: right;\n",
       "    }\n",
       "</style>\n",
       "<table border=\"1\" class=\"dataframe\">\n",
       "  <thead>\n",
       "    <tr style=\"text-align: right;\">\n",
       "      <th></th>\n",
       "      <th>Biased</th>\n",
       "      <th>Debiased</th>\n",
       "      <th>Fine Tuned</th>\n",
       "      <th>B to DB</th>\n",
       "      <th>B to FT</th>\n",
       "    </tr>\n",
       "  </thead>\n",
       "  <tbody>\n",
       "    <tr>\n",
       "      <th>0</th>\n",
       "      <td>95.2%</td>\n",
       "      <td>91.7%</td>\n",
       "      <td>92.4%</td>\n",
       "      <td>3.7%</td>\n",
       "      <td>2.9%</td>\n",
       "    </tr>\n",
       "    <tr>\n",
       "      <th>1</th>\n",
       "      <td>94.7%</td>\n",
       "      <td>90.0%</td>\n",
       "      <td>88.7%</td>\n",
       "      <td>5.0%</td>\n",
       "      <td>6.3%</td>\n",
       "    </tr>\n",
       "    <tr>\n",
       "      <th>2</th>\n",
       "      <td>92.6%</td>\n",
       "      <td>93.1%</td>\n",
       "      <td>85.6%</td>\n",
       "      <td>-0.5%</td>\n",
       "      <td>7.6%</td>\n",
       "    </tr>\n",
       "    <tr>\n",
       "      <th>3</th>\n",
       "      <td>91.0%</td>\n",
       "      <td>90.0%</td>\n",
       "      <td>82.7%</td>\n",
       "      <td>1.1%</td>\n",
       "      <td>9.1%</td>\n",
       "    </tr>\n",
       "    <tr>\n",
       "      <th>4</th>\n",
       "      <td>90.4%</td>\n",
       "      <td>83.6%</td>\n",
       "      <td>90.1%</td>\n",
       "      <td>7.6%</td>\n",
       "      <td>0.4%</td>\n",
       "    </tr>\n",
       "  </tbody>\n",
       "</table>\n",
       "</div>"
      ],
      "text/plain": [
       "  Biased Debiased Fine Tuned B to DB B to FT\n",
       "0  95.2%    91.7%      92.4%    3.7%    2.9%\n",
       "1  94.7%    90.0%      88.7%    5.0%    6.3%\n",
       "2  92.6%    93.1%      85.6%   -0.5%    7.6%\n",
       "3  91.0%    90.0%      82.7%    1.1%    9.1%\n",
       "4  90.4%    83.6%      90.1%    7.6%    0.4%"
      ]
     },
     "execution_count": 6,
     "metadata": {},
     "output_type": "execute_result"
    }
   ],
   "source": [
    "# Reduction in Top 5 scores\n",
    "b_to_db_t5_reduction = 1 - (np.array(db_t5_avg_scores) / np.array(b_t5_avg_scores))\n",
    "b_to_ft_t5_reduction = 1 - (np.array(ft_t5_avg_scores) / np.array(b_t5_avg_scores))\n",
    "\n",
    "top5_reductions = pd.DataFrame(columns = ('Biased', 'Debiased', 'Fine Tuned', 'B to DB', 'B to FT'))\n",
    "count = 5\n",
    "for i in range(5):\n",
    "    top5_reductions.loc[i] = [b_t5_avg_scores[i], db_t5_avg_scores[i], ft_t5_avg_scores[i], b_to_db_t5_reduction[i], b_to_ft_t5_reduction[i]]\n",
    "print(\"Reduction in Top 5 Average Score\")\n",
    "print(\"+ scores denote a reduction in bias (good)\")\n",
    "print(\"- scores denote an increase in bias (bad)\")\n",
    "# top5_reductions.head() # uncomment this for the raw values of the quartiles \n",
    "\n",
    "# Below code is display a pretty chart. Use the raw values when doing further statistics\n",
    "ptop5_reductions = top5_reductions.iloc[:, 0:].apply(lambda x: round(x*100, 1).astype(str) + \"%\")\n",
    "ptop5_reductions.head()"
   ]
  },
  {
   "cell_type": "code",
   "execution_count": 7,
   "metadata": {},
   "outputs": [
    {
     "data": {
      "image/png": "[encoded data removed]",
      "text/plain": [
       "<Figure size 432x288 with 1 Axes>"
      ]
     },
     "metadata": {
      "needs_background": "light"
     },
     "output_type": "display_data"
    }
   ],
   "source": [
    "# Bottom 5 Average Scores \n",
    "N = len(bot_5)\n",
    "biased_x     = N * [1] # use 1 to represent biased\n",
    "debiased_x   = N * [2] # use 2 to represent debiased\n",
    "fine_tuned_x = N * [3] # use 3 to represent fine-tuned\n",
    "\n",
    "x = [1, 2, 3]\n",
    "for b, db, ft in zip(b_b5_avg_scores, db_b5_avg_scores, ft_b5_avg_scores):\n",
    "    plt.plot(x, [b, db, ft], linestyle='--', marker=\".\", alpha=0.5)\n",
    "\n",
    "plt.xlabel(\"Model\")\n",
    "plt.xticks(x, labels = [\"B\", \"DB\", \"FT\"])\n",
    "plt.ylabel(\"Score\")\n",
    "plt.title(\"Bottom 5 Average Scores\")\n",
    "plt.savefig('./newton-plots/bot5_avg_score.jpg', dpi=300)"
   ]
  },
  {
   "cell_type": "code",
   "execution_count": 8,
   "metadata": {},
   "outputs": [
    {
     "name": "stdout",
     "output_type": "stream",
     "text": [
      "Reduction in Bottom 5 Average Score\n",
      "+ scores denote a reduction in bias (good)\n",
      "- scores denote an increase in bias (bad)\n"
     ]
    },
    {
     "data": {
      "text/html": [
       "<div>\n",
       "<style scoped>\n",
       "    .dataframe tbody tr th:only-of-type {\n",
       "        vertical-align: middle;\n",
       "    }\n",
       "\n",
       "    .dataframe tbody tr th {\n",
       "        vertical-align: top;\n",
       "    }\n",
       "\n",
       "    .dataframe thead th {\n",
       "        text-align: right;\n",
       "    }\n",
       "</style>\n",
       "<table border=\"1\" class=\"dataframe\">\n",
       "  <thead>\n",
       "    <tr style=\"text-align: right;\">\n",
       "      <th></th>\n",
       "      <th>Biased</th>\n",
       "      <th>Debiased</th>\n",
       "      <th>Fine Tuned</th>\n",
       "      <th>B to DB</th>\n",
       "      <th>B to FT</th>\n",
       "    </tr>\n",
       "  </thead>\n",
       "  <tbody>\n",
       "    <tr>\n",
       "      <th>0</th>\n",
       "      <td>2.7%</td>\n",
       "      <td>2.7%</td>\n",
       "      <td>36.2%</td>\n",
       "      <td>0.0%</td>\n",
       "      <td>-1236.9%</td>\n",
       "    </tr>\n",
       "    <tr>\n",
       "      <th>1</th>\n",
       "      <td>2.3%</td>\n",
       "      <td>2.3%</td>\n",
       "      <td>61.0%</td>\n",
       "      <td>0.0%</td>\n",
       "      <td>-2567.1%</td>\n",
       "    </tr>\n",
       "    <tr>\n",
       "      <th>2</th>\n",
       "      <td>4.1%</td>\n",
       "      <td>4.1%</td>\n",
       "      <td>1.7%</td>\n",
       "      <td>0.0%</td>\n",
       "      <td>59.8%</td>\n",
       "    </tr>\n",
       "    <tr>\n",
       "      <th>3</th>\n",
       "      <td>6.1%</td>\n",
       "      <td>6.1%</td>\n",
       "      <td>8.4%</td>\n",
       "      <td>0.0%</td>\n",
       "      <td>-37.5%</td>\n",
       "    </tr>\n",
       "    <tr>\n",
       "      <th>4</th>\n",
       "      <td>5.8%</td>\n",
       "      <td>5.8%</td>\n",
       "      <td>3.7%</td>\n",
       "      <td>0.0%</td>\n",
       "      <td>36.6%</td>\n",
       "    </tr>\n",
       "  </tbody>\n",
       "</table>\n",
       "</div>"
      ],
      "text/plain": [
       "  Biased Debiased Fine Tuned B to DB   B to FT\n",
       "0   2.7%     2.7%      36.2%    0.0%  -1236.9%\n",
       "1   2.3%     2.3%      61.0%    0.0%  -2567.1%\n",
       "2   4.1%     4.1%       1.7%    0.0%     59.8%\n",
       "3   6.1%     6.1%       8.4%    0.0%    -37.5%\n",
       "4   5.8%     5.8%       3.7%    0.0%     36.6%"
      ]
     },
     "execution_count": 8,
     "metadata": {},
     "output_type": "execute_result"
    }
   ],
   "source": [
    "# Reduction in Bottom 5 scores\n",
    "b_to_db_b5_reduction = 1 - (np.array(db_b5_avg_scores) / np.array(b_b5_avg_scores))\n",
    "b_to_ft_b5_reduction = 1 - (np.array(ft_b5_avg_scores) / np.array(b_b5_avg_scores))\n",
    "\n",
    "bot5_reductions = pd.DataFrame(columns = ('Biased', 'Debiased', 'Fine Tuned', 'B to DB', 'B to FT'))\n",
    "count = 5\n",
    "for i in range(5):\n",
    "    bot5_reductions.loc[i] = [b_b5_avg_scores[i], db_b5_avg_scores[i], ft_b5_avg_scores[i], b_to_db_b5_reduction[i], b_to_ft_b5_reduction[i]]\n",
    "print(\"Reduction in Bottom 5 Average Score\")\n",
    "print(\"+ scores denote a reduction in bias (good)\")\n",
    "print(\"- scores denote an increase in bias (bad)\")\n",
    "# bot5_reductions.head() # uncomment this for the raw values of the quartiles \n",
    "\n",
    "# Below code is display a pretty chart. Use the raw values when doing further statistics\n",
    "pbot5_reductions = bot5_reductions.iloc[:, 0:].apply(lambda x: round(x*100, 1).astype(str) + \"%\")\n",
    "pbot5_reductions.head()"
   ]
  },
  {
   "cell_type": "markdown",
   "metadata": {},
   "source": [
    "Quartiles: Do the extremes get reduced more than the middle quartiles?"
   ]
  },
  {
   "cell_type": "code",
   "execution_count": 9,
   "metadata": {},
   "outputs": [],
   "source": [
    "N = biased.shape[0] \n",
    "splits = 4 \n",
    "n = int(N / splits)\n",
    "# split data into four quartiles \n",
    "# take the average of each section \n",
    "# see if this goes down and by how much\n",
    "\n",
    "# biased \n",
    "b_sorted = biased.sort_values(by=['Average']) # in descending order \n",
    "b_Q1  = b_sorted.iloc[0:n]       # 0-25% (least toxic)\n",
    "b_Q2  = b_sorted.iloc[n+1:2*n]   # 25-50%\n",
    "b_Q3  = b_sorted.iloc[2*n+1:3*n] # 50-75% \n",
    "b_Q4  = b_sorted.iloc[3*n+1:4*n] # 75-100%  (most toxic)\n",
    "\n",
    "# debiased \n",
    "db_sorted = debiased.sort_values(by=['Average']) # in descending order \n",
    "db_Q1  = db_sorted.iloc[0:n]       # 0-25% (least toxic)\n",
    "db_Q2  = db_sorted.iloc[n+1:2*n]   # 25-50%\n",
    "db_Q3  = db_sorted.iloc[2*n+1:3*n] # 50-75% \n",
    "db_Q4  = db_sorted.iloc[3*n+1:4*n] # 75-100%  (most toxic)\n",
    "\n",
    "# fine-tuned  \n",
    "ft_sorted = fine_tuned.sort_values(by=['Average']) # in descending order \n",
    "ft_Q1  = ft_sorted.iloc[0:n]       # 0-25% (least toxic)\n",
    "ft_Q2  = ft_sorted.iloc[n+1:2*n]   # 25-50%\n",
    "ft_Q3  = ft_sorted.iloc[2*n+1:3*n] # 50-75% \n",
    "ft_Q4  = ft_sorted.iloc[3*n+1:4*n] # 75-100%  (most toxic)\n"
   ]
  },
  {
   "cell_type": "code",
   "execution_count": 10,
   "metadata": {},
   "outputs": [],
   "source": [
    "# Get averages \n",
    "# np.array =  [Q1, Q2, Q3, Q4] \n",
    "b_avgs = np.array([b_Q4['Average'].mean(), \n",
    "                  b_Q3['Average'].mean(), \n",
    "                  b_Q2['Average'].mean(), \n",
    "                  b_Q1['Average'].mean()]\n",
    "                ) \n",
    "\n",
    "db_avgs = np.array([db_Q4['Average'].mean(), \n",
    "                  db_Q3['Average'].mean(), \n",
    "                  db_Q2['Average'].mean(), \n",
    "                  db_Q1['Average'].mean()]\n",
    "                ) \n",
    "\n",
    "ft_avgs = np.array([ft_Q4['Average'].mean(), \n",
    "                  ft_Q3['Average'].mean(), \n",
    "                  ft_Q2['Average'].mean(), \n",
    "                  ft_Q1['Average'].mean()]\n",
    "                ) "
   ]
  },
  {
   "cell_type": "code",
   "execution_count": 11,
   "metadata": {},
   "outputs": [
    {
     "data": {
      "image/png": "[encoded data removed]",
      "text/plain": [
       "<Figure size 432x288 with 1 Axes>"
      ]
     },
     "metadata": {
      "needs_background": "light"
     },
     "output_type": "display_data"
    }
   ],
   "source": [
    "# Quartile Changes Average Scores \n",
    "N = len(bot_5)\n",
    "biased_x     = N * [1] # use 1 to represent biased\n",
    "debiased_x   = N * [2] # use 2 to represent debiased\n",
    "fine_tuned_x = N * [3] # use 3 to represent fine-tuned\n",
    "\n",
    "x = [1, 2, 3]\n",
    "for b, db, ft in zip(b_avgs, db_avgs, ft_avgs):\n",
    "    plt.plot(x, [b, db, ft], linestyle='--', marker=\".\", alpha=0.5)\n",
    "\n",
    "plt.xlabel(\"Model\")\n",
    "plt.xticks(x, labels = [\"B\", \"DB\", \"FT\"])\n",
    "plt.ylabel(\"Score\")\n",
    "plt.title(\"Quartile Change in Average Score\")\n",
    "plt.savefig('./newton-plots/quartile_avg_score_changes.jpg', dpi=300)"
   ]
  },
  {
   "cell_type": "code",
   "execution_count": 14,
   "metadata": {},
   "outputs": [
    {
     "name": "stdout",
     "output_type": "stream",
     "text": [
      "Reduction in Quartile Average Score\n",
      "+ scores denote a reduction in bias (good)\n",
      "- scores denote an increase in bias (bad)\n"
     ]
    },
    {
     "data": {
      "text/html": [
       "<div>\n",
       "<style scoped>\n",
       "    .dataframe tbody tr th:only-of-type {\n",
       "        vertical-align: middle;\n",
       "    }\n",
       "\n",
       "    .dataframe tbody tr th {\n",
       "        vertical-align: top;\n",
       "    }\n",
       "\n",
       "    .dataframe thead th {\n",
       "        text-align: right;\n",
       "    }\n",
       "</style>\n",
       "<table border=\"1\" class=\"dataframe\">\n",
       "  <thead>\n",
       "    <tr style=\"text-align: right;\">\n",
       "      <th></th>\n",
       "      <th>Quartile</th>\n",
       "      <th>Biased</th>\n",
       "      <th>Debiased</th>\n",
       "      <th>Fine Tuned</th>\n",
       "      <th>B to DB</th>\n",
       "      <th>B to FT</th>\n",
       "    </tr>\n",
       "  </thead>\n",
       "  <tbody>\n",
       "    <tr>\n",
       "      <th>0</th>\n",
       "      <td>Q4</td>\n",
       "      <td>79.9%</td>\n",
       "      <td>76.8%</td>\n",
       "      <td>78.3%</td>\n",
       "      <td>3.8%</td>\n",
       "      <td>2.0%</td>\n",
       "    </tr>\n",
       "    <tr>\n",
       "      <th>1</th>\n",
       "      <td>Q3</td>\n",
       "      <td>70.0%</td>\n",
       "      <td>65.9%</td>\n",
       "      <td>67.9%</td>\n",
       "      <td>5.8%</td>\n",
       "      <td>2.9%</td>\n",
       "    </tr>\n",
       "    <tr>\n",
       "      <th>2</th>\n",
       "      <td>Q2</td>\n",
       "      <td>61.5%</td>\n",
       "      <td>56.7%</td>\n",
       "      <td>57.9%</td>\n",
       "      <td>7.8%</td>\n",
       "      <td>5.7%</td>\n",
       "    </tr>\n",
       "    <tr>\n",
       "      <th>3</th>\n",
       "      <td>Q1</td>\n",
       "      <td>38.7%</td>\n",
       "      <td>31.5%</td>\n",
       "      <td>35.6%</td>\n",
       "      <td>18.6%</td>\n",
       "      <td>7.8%</td>\n",
       "    </tr>\n",
       "  </tbody>\n",
       "</table>\n",
       "</div>"
      ],
      "text/plain": [
       "  Quartile Biased Debiased Fine Tuned B to DB B to FT\n",
       "0       Q4  79.9%    76.8%      78.3%    3.8%    2.0%\n",
       "1       Q3  70.0%    65.9%      67.9%    5.8%    2.9%\n",
       "2       Q2  61.5%    56.7%      57.9%    7.8%    5.7%\n",
       "3       Q1  38.7%    31.5%      35.6%   18.6%    7.8%"
      ]
     },
     "execution_count": 14,
     "metadata": {},
     "output_type": "execute_result"
    }
   ],
   "source": [
    "# Reduction in top scores\n",
    "b_to_db_reduction = 1 - (np.array(db_avgs) / np.array(b_avgs))\n",
    "b_to_ft_reduction = 1 - (np.array(ft_avgs) / np.array(b_avgs))\n",
    "qs = ['Q4', 'Q3', 'Q2', 'Q1']\n",
    "quartiles = pd.DataFrame(columns = ('Quartile', 'Biased', 'Debiased', 'Fine Tuned', 'B to DB', 'B to FT'))\n",
    "count = 4 \n",
    "for i in range(4):\n",
    "    quartiles.loc[i] = [qs[i], b_avgs[i], db_avgs[i], ft_avgs[i], b_to_db_reduction[i], b_to_ft_reduction[i]]\n",
    "print(\"Reduction in Quartile Average Score\")\n",
    "print(\"+ scores denote a reduction in bias (good)\")\n",
    "print(\"- scores denote an increase in bias (bad)\")\n",
    "# quartiles.head() # uncomment this for the raw values of the quartiles \n",
    "\n",
    "# Below code is display a pretty chart. Use the raw values when doing further statistics\n",
    "pquartiles = quartiles \n",
    "pquartiles.iloc[:, 1:] = quartiles.iloc[:, 1:].apply(lambda x: round(x*100, 1).astype(str) + \"%\")\n",
    "pquartiles.head()\n"
   ]
  },
  {
   "cell_type": "markdown",
   "metadata": {},
   "source": [
    "These results are generally surprising. I want to see what the average looks like across all of the "
   ]
  },
  {
   "cell_type": "markdown",
   "metadata": {},
   "source": []
  },
  {
   "cell_type": "code",
   "execution_count": null,
   "metadata": {},
   "outputs": [],
   "source": []
  }
 ],
 "metadata": {
  "interpreter": {
   "hash": "e5d7dfdfca9c1b651d60423a4e16e85f61c5f43f29784a64ca69a6cda459b23f"
  },
  "kernelspec": {
   "display_name": "Python 3.7.11 ('self-debiasing')",
   "language": "python",
   "name": "python3"
  },
  "language_info": {
   "codemirror_mode": {
    "name": "ipython",
    "version": 3
   },
   "file_extension": ".py",
   "mimetype": "text/x-python",
   "name": "python",
   "nbconvert_exporter": "python",
   "pygments_lexer": "ipython3",
   "version": "3.7.11"
  },
  "orig_nbformat": 4
 },
 "nbformat": 4,
 "nbformat_minor": 2
}
